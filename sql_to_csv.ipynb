{
 "cells": [
  {
   "cell_type": "markdown",
   "metadata": {},
   "source": [
    "### sql_to_csv"
   ]
  },
  {
   "cell_type": "code",
   "execution_count": 147,
   "metadata": {},
   "outputs": [],
   "source": [
    "import pandas as pd\n",
    "import datetime\n",
    "import os\n",
    "import matplotlib.pyplot as plt\n",
    "def str_time(x):\n",
    "    \"x :string in '-seperated date followed by space followed by : seperated time. eg: 'yyyy-MM-d hh:m:ss'. Note: seperator is important but not size of field. In eg, d is not a typo dd.\"\n",
    "    y = x.split(' ')\n",
    "    y[0] = y[0].split('-')\n",
    "    y[1] = y[1].split(':')\n",
    "#    print(y)\n",
    "    return datetime.datetime(int(y[0][0]),int(y[0][1]),int(y[0][2]),int(y[1][0]),int(y[1][1]),int(y[1][2]))"
   ]
  },
  {
   "cell_type": "code",
   "execution_count": 199,
   "metadata": {},
   "outputs": [
    {
     "data": {
      "text/plain": [
       "[['-- phpMyAdmin SQL Dump\\n-- version 4.9.5\\n-- https://www.phpmyadmin.net/\\n--\\n-- Host: localhost:3306\\n-- Generation Time: Apr 03, 2020 at 06:39 AM\\n-- Server version: 10.3.16-MariaDB\\n-- PHP Version: 7.3.12\\n\\nSET SQL_MODE = \"NO_AUTO_VALUE_ON_ZERO\";\\nSET AUTOCOMMIT = 0;\\nSTART TRANSACTION;\\nSET time_zone = \"+00:00\";\\n\\n\\n/*!40101 SET @OLD_CHARACTER_SET_CLIENT=@@CHARACTER_SET_CLIENT */;\\n/*!40101 SET @OLD_CHARACTER_SET_RESULTS=@@CHARACTER_SET_RESULTS */;\\n/*!40101 SET @OLD_COLLATION_CONNECTION=@@COLLATION_CONNECTION */;\\n/*!40101 SET NAMES utf8mb4 */;\\n\\n--\\n-- Database: `id11084473_iot`\\n--\\n\\n-- --------------------------------------------------------\\n\\n--\\n-- Table structure for table `finish`\\n--\\n\\nCREATE TABLE `finish` (\\n  `id` int(11) NOT NULL,\\n  `at` timestamp NOT NULL DEFAULT current_timestamp(),\\n  `value` int(11) NOT NULL,\\n  `module_at` int(11) NOT NULL,\\n  `ip` varchar(16) COLLATE utf8_unicode_ci NOT NULL,\\n  `user` int(11) NOT NULL,\\n  `cash_bytes` text COLLATE utf8_unicode_ci NOT NULL\\n) ENGINE=InnoDB DEFAULT CHARSET=utf8 COLLATE=utf8_unicode_ci;\\n\\n--\\n-- Dumping data for table `finish`\\n--\\n\\n']]"
      ]
     },
     "execution_count": 199,
     "metadata": {},
     "output_type": "execute_result"
    }
   ],
   "source": [
    "'''def s():\n",
    "                temp_file_path = header[0].replace(' `','').replace('`','')\n",
    "            if not os.path.exists(temp_file_path):\n",
    "                temp_file = open(temp_file_path,'w')\n",
    "                temp_file.write(header[1].replace(' `','').replace('`','').replace(')',''))\n",
    "            else:\n",
    "                print(\"File already exists : \",temp_file_path)\n",
    "'''\n",
    "def sql_to_csv(file_path,fol='./'):\n",
    "    \n",
    "    f = open(file_path,'r')\n",
    "    x = f.read().split('INSERT INTO')\n",
    "    database = dict()\n",
    "    missed = list()\n",
    "    for table in x:\n",
    "        data =  table.split('VALUES')\n",
    "        header = data[0].split(' (`')\n",
    "        if len(header) == 2:\n",
    "            temp_file_path = header[0].replace(' `','').replace('`','')\n",
    "            if not temp_file_path in database:\n",
    "                database[temp_file_path] = [header[1].replace(' `','').replace('`','').replace(')','')]\n",
    "                #database[temp_file_path].append(header[1])\n",
    "                #else:\n",
    "            database[temp_file_path].append(data[1].replace('(','').replace('),','').replace(\"'\",''))\n",
    "        else:\n",
    "            missed.append(header)\n",
    "    for tbl in database:\n",
    "        if os.path.exists(fol+tbl):\n",
    "            print(\"FileExists :\",fol+tbl)\n",
    "        else:\n",
    "            f = open(fol+tbl,'w')\n",
    "            f.write(database[tbl][0])\n",
    "            f.write(database[tbl][1].split(');')[0])\n",
    "            f.close()\n",
    "    return missed\n",
    "#x = \n",
    "sql_to_csv('id11084473_iot.sql','temp/')\n",
    "#y = x[0]['finish'][1].split(';')\n",
    "#print(x[0]['finish'][1][0],y[0])"
   ]
  },
  {
   "cell_type": "code",
   "execution_count": 171,
   "metadata": {},
   "outputs": [],
   "source": [
    "!mkdir temp"
   ]
  },
  {
   "cell_type": "code",
   "execution_count": 194,
   "metadata": {},
   "outputs": [],
   "source": [
    "!ls temp"
   ]
  },
  {
   "cell_type": "code",
   "execution_count": 198,
   "metadata": {},
   "outputs": [],
   "source": [
    "!rm temp/*"
   ]
  },
  {
   "cell_type": "code",
   "execution_count": null,
   "metadata": {},
   "outputs": [],
   "source": []
  },
  {
   "cell_type": "code",
   "execution_count": 200,
   "metadata": {},
   "outputs": [
    {
     "data": {
      "text/html": [
       "<div>\n",
       "<style scoped>\n",
       "    .dataframe tbody tr th:only-of-type {\n",
       "        vertical-align: middle;\n",
       "    }\n",
       "\n",
       "    .dataframe tbody tr th {\n",
       "        vertical-align: top;\n",
       "    }\n",
       "\n",
       "    .dataframe thead th {\n",
       "        text-align: right;\n",
       "    }\n",
       "</style>\n",
       "<table border=\"1\" class=\"dataframe\">\n",
       "  <thead>\n",
       "    <tr style=\"text-align: right;\">\n",
       "      <th></th>\n",
       "      <th>ip</th>\n",
       "      <th>id</th>\n",
       "      <th>value</th>\n",
       "      <th>at</th>\n",
       "      <th>module_at</th>\n",
       "      <th>user</th>\n",
       "    </tr>\n",
       "  </thead>\n",
       "  <tbody>\n",
       "    <tr>\n",
       "      <td>0</td>\n",
       "      <td>192.168.43.249</td>\n",
       "      <td>1</td>\n",
       "      <td>0</td>\n",
       "      <td>2019-12-26 17:46:52</td>\n",
       "      <td>602218</td>\n",
       "      <td>3</td>\n",
       "    </tr>\n",
       "    <tr>\n",
       "      <td>1</td>\n",
       "      <td>192.168.43.249</td>\n",
       "      <td>1</td>\n",
       "      <td>1</td>\n",
       "      <td>2019-12-26 18:11:08</td>\n",
       "      <td>104011</td>\n",
       "      <td>3</td>\n",
       "    </tr>\n",
       "    <tr>\n",
       "      <td>2</td>\n",
       "      <td>192.168.43.249</td>\n",
       "      <td>1</td>\n",
       "      <td>185</td>\n",
       "      <td>2019-12-26 18:11:14</td>\n",
       "      <td>110596</td>\n",
       "      <td>-1</td>\n",
       "    </tr>\n",
       "    <tr>\n",
       "      <td>3</td>\n",
       "      <td>192.168.43.249</td>\n",
       "      <td>1</td>\n",
       "      <td>0</td>\n",
       "      <td>2019-12-26 18:11:51</td>\n",
       "      <td>147464</td>\n",
       "      <td>3</td>\n",
       "    </tr>\n",
       "    <tr>\n",
       "      <td>4</td>\n",
       "      <td>192.168.43.249</td>\n",
       "      <td>1</td>\n",
       "      <td>1</td>\n",
       "      <td>2019-12-26 18:24:43</td>\n",
       "      <td>319453</td>\n",
       "      <td>39</td>\n",
       "    </tr>\n",
       "    <tr>\n",
       "      <td>...</td>\n",
       "      <td>...</td>\n",
       "      <td>...</td>\n",
       "      <td>...</td>\n",
       "      <td>...</td>\n",
       "      <td>...</td>\n",
       "      <td>...</td>\n",
       "    </tr>\n",
       "    <tr>\n",
       "      <td>245</td>\n",
       "      <td>192.168.43.24</td>\n",
       "      <td>1</td>\n",
       "      <td>3496</td>\n",
       "      <td>2020-03-20 18:20:47</td>\n",
       "      <td>242485</td>\n",
       "      <td>8</td>\n",
       "    </tr>\n",
       "    <tr>\n",
       "      <td>246</td>\n",
       "      <td>192.168.43.249</td>\n",
       "      <td>1</td>\n",
       "      <td>62</td>\n",
       "      <td>2020-03-21 07:04:06</td>\n",
       "      <td>164551</td>\n",
       "      <td>3</td>\n",
       "    </tr>\n",
       "    <tr>\n",
       "      <td>247</td>\n",
       "      <td>192.168.43.249</td>\n",
       "      <td>1</td>\n",
       "      <td>0</td>\n",
       "      <td>2020-03-21 07:04:26</td>\n",
       "      <td>184971</td>\n",
       "      <td>3</td>\n",
       "    </tr>\n",
       "    <tr>\n",
       "      <td>248</td>\n",
       "      <td>192.168.43.249</td>\n",
       "      <td>1</td>\n",
       "      <td>2</td>\n",
       "      <td>2020-03-21 07:09:05</td>\n",
       "      <td>463351</td>\n",
       "      <td>3</td>\n",
       "    </tr>\n",
       "    <tr>\n",
       "      <td>249</td>\n",
       "      <td>192.168.43.249</td>\n",
       "      <td>1</td>\n",
       "      <td>0</td>\n",
       "      <td>2020-03-21 07:09:41</td>\n",
       "      <td>499343</td>\n",
       "      <td>3</td>\n",
       "    </tr>\n",
       "  </tbody>\n",
       "</table>\n",
       "<p>250 rows × 6 columns</p>\n",
       "</div>"
      ],
      "text/plain": [
       "                 ip  id  value                    at  module_at  user \n",
       "0    192.168.43.249   1      0   2019-12-26 17:46:52     602218      3\n",
       "1    192.168.43.249   1      1   2019-12-26 18:11:08     104011      3\n",
       "2    192.168.43.249   1    185   2019-12-26 18:11:14     110596     -1\n",
       "3    192.168.43.249   1      0   2019-12-26 18:11:51     147464      3\n",
       "4    192.168.43.249   1      1   2019-12-26 18:24:43     319453     39\n",
       "..              ...  ..    ...                   ...        ...    ...\n",
       "245   192.168.43.24   1   3496   2020-03-20 18:20:47     242485      8\n",
       "246  192.168.43.249   1     62   2020-03-21 07:04:06     164551      3\n",
       "247  192.168.43.249   1      0   2020-03-21 07:04:26     184971      3\n",
       "248  192.168.43.249   1      2   2020-03-21 07:09:05     463351      3\n",
       "249  192.168.43.249   1      0   2020-03-21 07:09:41     499343      3\n",
       "\n",
       "[250 rows x 6 columns]"
      ]
     },
     "execution_count": 200,
     "metadata": {},
     "output_type": "execute_result"
    }
   ],
   "source": [
    "sensor_values = pd.read_csv('temp/sensor_values')\n",
    "sensor_values"
   ]
  },
  {
   "cell_type": "code",
   "execution_count": 190,
   "metadata": {},
   "outputs": [
    {
     "data": {
      "text/html": [
       "<div>\n",
       "<style scoped>\n",
       "    .dataframe tbody tr th:only-of-type {\n",
       "        vertical-align: middle;\n",
       "    }\n",
       "\n",
       "    .dataframe tbody tr th {\n",
       "        vertical-align: top;\n",
       "    }\n",
       "\n",
       "    .dataframe thead th {\n",
       "        text-align: right;\n",
       "    }\n",
       "</style>\n",
       "<table border=\"1\" class=\"dataframe\">\n",
       "  <thead>\n",
       "    <tr style=\"text-align: right;\">\n",
       "      <th></th>\n",
       "      <th>ip</th>\n",
       "      <th>id</th>\n",
       "      <th>value</th>\n",
       "      <th>at</th>\n",
       "      <th>module_at</th>\n",
       "      <th>user</th>\n",
       "    </tr>\n",
       "  </thead>\n",
       "  <tbody>\n",
       "    <tr>\n",
       "      <td>192.168.43.249</td>\n",
       "      <td>1</td>\n",
       "      <td>0</td>\n",
       "      <td>2019-12-26 17:46:52</td>\n",
       "      <td>602218</td>\n",
       "      <td>3</td>\n",
       "      <td>NaN</td>\n",
       "    </tr>\n",
       "    <tr>\n",
       "      <td>192.168.43.249</td>\n",
       "      <td>1</td>\n",
       "      <td>1</td>\n",
       "      <td>2019-12-26 18:11:08</td>\n",
       "      <td>104011</td>\n",
       "      <td>3</td>\n",
       "      <td>NaN</td>\n",
       "    </tr>\n",
       "    <tr>\n",
       "      <td>192.168.43.249</td>\n",
       "      <td>1</td>\n",
       "      <td>185</td>\n",
       "      <td>2019-12-26 18:11:14</td>\n",
       "      <td>110596</td>\n",
       "      <td>-1</td>\n",
       "      <td>NaN</td>\n",
       "    </tr>\n",
       "    <tr>\n",
       "      <td>192.168.43.249</td>\n",
       "      <td>1</td>\n",
       "      <td>0</td>\n",
       "      <td>2019-12-26 18:11:51</td>\n",
       "      <td>147464</td>\n",
       "      <td>3</td>\n",
       "      <td>NaN</td>\n",
       "    </tr>\n",
       "    <tr>\n",
       "      <td>192.168.43.249</td>\n",
       "      <td>1</td>\n",
       "      <td>1</td>\n",
       "      <td>2019-12-26 18:24:43</td>\n",
       "      <td>319453</td>\n",
       "      <td>39</td>\n",
       "      <td>NaN</td>\n",
       "    </tr>\n",
       "    <tr>\n",
       "      <td>...</td>\n",
       "      <td>...</td>\n",
       "      <td>...</td>\n",
       "      <td>...</td>\n",
       "      <td>...</td>\n",
       "      <td>...</td>\n",
       "      <td>...</td>\n",
       "    </tr>\n",
       "    <tr>\n",
       "      <td>192.168.43.24</td>\n",
       "      <td>1</td>\n",
       "      <td>3496</td>\n",
       "      <td>2020-03-20 18:20:47</td>\n",
       "      <td>242485</td>\n",
       "      <td>8</td>\n",
       "      <td>NaN</td>\n",
       "    </tr>\n",
       "    <tr>\n",
       "      <td>192.168.43.249</td>\n",
       "      <td>1</td>\n",
       "      <td>62</td>\n",
       "      <td>2020-03-21 07:04:06</td>\n",
       "      <td>164551</td>\n",
       "      <td>3</td>\n",
       "      <td>NaN</td>\n",
       "    </tr>\n",
       "    <tr>\n",
       "      <td>192.168.43.249</td>\n",
       "      <td>1</td>\n",
       "      <td>0</td>\n",
       "      <td>2020-03-21 07:04:26</td>\n",
       "      <td>184971</td>\n",
       "      <td>3</td>\n",
       "      <td>NaN</td>\n",
       "    </tr>\n",
       "    <tr>\n",
       "      <td>192.168.43.249</td>\n",
       "      <td>1</td>\n",
       "      <td>2</td>\n",
       "      <td>2020-03-21 07:09:05</td>\n",
       "      <td>463351</td>\n",
       "      <td>3</td>\n",
       "      <td>NaN</td>\n",
       "    </tr>\n",
       "    <tr>\n",
       "      <td>192.168.43.249</td>\n",
       "      <td>1</td>\n",
       "      <td>0</td>\n",
       "      <td>2020-03-21 07:09:41</td>\n",
       "      <td>499343</td>\n",
       "      <td>3</td>\n",
       "      <td>NaN</td>\n",
       "    </tr>\n",
       "  </tbody>\n",
       "</table>\n",
       "<p>250 rows × 6 columns</p>\n",
       "</div>"
      ],
      "text/plain": [
       "                ip    id                 value      at  module_at  user \n",
       "192.168.43.249   1     0   2019-12-26 17:46:52  602218          3    NaN\n",
       "192.168.43.249   1     1   2019-12-26 18:11:08  104011          3    NaN\n",
       "192.168.43.249   1   185   2019-12-26 18:11:14  110596         -1    NaN\n",
       "192.168.43.249   1     0   2019-12-26 18:11:51  147464          3    NaN\n",
       "192.168.43.249   1     1   2019-12-26 18:24:43  319453         39    NaN\n",
       "...             ..   ...                   ...     ...        ...    ...\n",
       "192.168.43.24    1  3496   2020-03-20 18:20:47  242485          8    NaN\n",
       "192.168.43.249   1    62   2020-03-21 07:04:06  164551          3    NaN\n",
       "192.168.43.249   1     0   2020-03-21 07:04:26  184971          3    NaN\n",
       "192.168.43.249   1     2   2020-03-21 07:09:05  463351          3    NaN\n",
       "192.168.43.249   1     0   2020-03-21 07:09:41  499343          3    NaN\n",
       "\n",
       "[250 rows x 6 columns]"
      ]
     },
     "execution_count": 190,
     "metadata": {},
     "output_type": "execute_result"
    }
   ],
   "source": []
  },
  {
   "cell_type": "code",
   "execution_count": null,
   "metadata": {},
   "outputs": [],
   "source": []
  },
  {
   "cell_type": "code",
   "execution_count": 2,
   "metadata": {},
   "outputs": [
    {
     "ename": "TypeError",
     "evalue": "read_sql() missing 1 required positional argument: 'con'",
     "output_type": "error",
     "traceback": [
      "\u001b[0;31m---------------------------------------------------------------------------\u001b[0m",
      "\u001b[0;31mTypeError\u001b[0m                                 Traceback (most recent call last)",
      "\u001b[0;32m<ipython-input-2-5e29a756ce16>\u001b[0m in \u001b[0;36m<module>\u001b[0;34m\u001b[0m\n\u001b[0;32m----> 1\u001b[0;31m \u001b[0mdf\u001b[0m \u001b[0;34m=\u001b[0m \u001b[0mpd\u001b[0m\u001b[0;34m.\u001b[0m\u001b[0mread_sql\u001b[0m\u001b[0;34m(\u001b[0m\u001b[0;34m'id11084473_iot.sql'\u001b[0m\u001b[0;34m)\u001b[0m\u001b[0;34m\u001b[0m\u001b[0;34m\u001b[0m\u001b[0m\n\u001b[0m",
      "\u001b[0;31mTypeError\u001b[0m: read_sql() missing 1 required positional argument: 'con'"
     ]
    }
   ],
   "source": [
    "df = pd.read_sql('id11084473_iot.sql')"
   ]
  },
  {
   "cell_type": "code",
   "execution_count": null,
   "metadata": {},
   "outputs": [],
   "source": [
    "pd.read_sql"
   ]
  },
  {
   "cell_type": "code",
   "execution_count": 116,
   "metadata": {},
   "outputs": [],
   "source": [
    "df =pd.read_csv('sensor_values.csv')#,header=['ip', 'id', 'value', 'at', 'module_at', 'user'])\n",
    "li = list()\n",
    "values = list()\n",
    "for _,row in df[['value','at']].iterrows():\n",
    "    li.append(str_time(row['at']).timestamp())\n",
    "    values.append(int(row['value']))\n",
    "df['timestamp'] = pd.Series(li)\n",
    "df['value_int'] = pd.Series(values)\n",
    "df"
   ]
  },
  {
   "cell_type": "code",
   "execution_count": null,
   "metadata": {},
   "outputs": [],
   "source": []
  },
  {
   "cell_type": "code",
   "execution_count": 130,
   "metadata": {},
   "outputs": [],
   "source": [
    "x = df.iloc[210:230]"
   ]
  },
  {
   "cell_type": "code",
   "execution_count": 131,
   "metadata": {},
   "outputs": [
    {
     "data": {
      "text/plain": [
       "[<matplotlib.lines.Line2D at 0x7f88f5713a50>]"
      ]
     },
     "execution_count": 131,
     "metadata": {},
     "output_type": "execute_result"
    },
    {
     "data": {
      "image/png": "[encoded data removed]",
      "text/plain": [
       "<Figure size 432x288 with 1 Axes>"
      ]
     },
     "metadata": {
      "needs_background": "light"
     },
     "output_type": "display_data"
    }
   ],
   "source": [
    "plt.plot(x['timestamp'],x['value'])"
   ]
  },
  {
   "cell_type": "code",
   "execution_count": 124,
   "metadata": {},
   "outputs": [
    {
     "data": {
      "text/plain": [
       "RangeIndex(start=0, stop=250, step=1)"
      ]
     },
     "execution_count": 124,
     "metadata": {},
     "output_type": "execute_result"
    }
   ],
   "source": [
    "df.index"
   ]
  },
  {
   "cell_type": "code",
   "execution_count": null,
   "metadata": {},
   "outputs": [],
   "source": []
  },
  {
   "cell_type": "code",
   "execution_count": 8,
   "metadata": {},
   "outputs": [
    {
     "data": {
      "text/plain": [
       "'ip, id, value, at, module_at, user'"
      ]
     },
     "execution_count": 8,
     "metadata": {},
     "output_type": "execute_result"
    }
   ],
   "source": [
    "\"`ip`, `id`, `value`, `at`, `module_at`, `user`\".replace('`',\"\")"
   ]
  },
  {
   "cell_type": "code",
   "execution_count": 12,
   "metadata": {},
   "outputs": [
    {
     "data": {
      "text/plain": [
       "Index(['ip', ' id', ' value', ' at', ' module_at', ' user'], dtype='object')"
      ]
     },
     "execution_count": 12,
     "metadata": {},
     "output_type": "execute_result"
    }
   ],
   "source": [
    "df.keys()"
   ]
  },
  {
   "cell_type": "code",
   "execution_count": 25,
   "metadata": {},
   "outputs": [
    {
     "name": "stdout",
     "output_type": "stream",
     "text": [
      "<class 'str'>\n"
     ]
    },
    {
     "data": {
      "text/plain": [
       "'2019-12-26 17:46:52'"
      ]
     },
     "execution_count": 25,
     "metadata": {},
     "output_type": "execute_result"
    }
   ],
   "source": [
    "x = df['at'][0]\n",
    "print(type(x))\n",
    "x"
   ]
  },
  {
   "cell_type": "code",
   "execution_count": 29,
   "metadata": {},
   "outputs": [],
   "source": []
  },
  {
   "cell_type": "code",
   "execution_count": 60,
   "metadata": {},
   "outputs": [
    {
     "data": {
      "text/plain": [
       "datetime.datetime(2000, 1, 1, 1, 1, 1)"
      ]
     },
     "execution_count": 60,
     "metadata": {},
     "output_type": "execute_result"
    }
   ],
   "source": [
    "z = datetime.datetime(2000,1,1,1,1,1)\n",
    "z"
   ]
  },
  {
   "cell_type": "code",
   "execution_count": 52,
   "metadata": {},
   "outputs": [],
   "source": []
  },
  {
   "cell_type": "code",
   "execution_count": 56,
   "metadata": {},
   "outputs": [],
   "source": [
    "y = str_time(x)"
   ]
  },
  {
   "cell_type": "code",
   "execution_count": 61,
   "metadata": {},
   "outputs": [
    {
     "ename": "TypeError",
     "evalue": "unsupported type for timedelta seconds component: datetime.datetime",
     "output_type": "error",
     "traceback": [
      "\u001b[0;31m---------------------------------------------------------------------------\u001b[0m",
      "\u001b[0;31mTypeError\u001b[0m                                 Traceback (most recent call last)",
      "\u001b[0;32m<ipython-input-61-7dda0acf27f1>\u001b[0m in \u001b[0;36m<module>\u001b[0;34m\u001b[0m\n\u001b[0;32m----> 1\u001b[0;31m \u001b[0mdatetime\u001b[0m\u001b[0;34m.\u001b[0m\u001b[0mtimedelta\u001b[0m\u001b[0;34m(\u001b[0m\u001b[0mz\u001b[0m\u001b[0;34m,\u001b[0m\u001b[0my\u001b[0m\u001b[0;34m)\u001b[0m\u001b[0;34m\u001b[0m\u001b[0;34m\u001b[0m\u001b[0m\n\u001b[0m",
      "\u001b[0;31mTypeError\u001b[0m: unsupported type for timedelta seconds component: datetime.datetime"
     ]
    }
   ],
   "source": [
    "datetime.timedelta(z,y)\n"
   ]
  },
  {
   "cell_type": "code",
   "execution_count": 75,
   "metadata": {},
   "outputs": [
    {
     "data": {
      "text/plain": [
       "823.0"
      ]
     },
     "execution_count": 75,
     "metadata": {},
     "output_type": "execute_result"
    }
   ],
   "source": [
    "\n",
    "str_time(df['at'][5]).timestamp() - str_time(df['at'][1]).timestamp()"
   ]
  },
  {
   "cell_type": "code",
   "execution_count": 83,
   "metadata": {},
   "outputs": [],
   "source": [
    "df['timestamp'] = df['at']"
   ]
  },
  {
   "cell_type": "code",
   "execution_count": 112,
   "metadata": {},
   "outputs": [],
   "source": []
  },
  {
   "cell_type": "code",
   "execution_count": 113,
   "metadata": {},
   "outputs": [
    {
     "data": {
      "text/html": [
       "<div>\n",
       "<style scoped>\n",
       "    .dataframe tbody tr th:only-of-type {\n",
       "        vertical-align: middle;\n",
       "    }\n",
       "\n",
       "    .dataframe tbody tr th {\n",
       "        vertical-align: top;\n",
       "    }\n",
       "\n",
       "    .dataframe thead th {\n",
       "        text-align: right;\n",
       "    }\n",
       "</style>\n",
       "<table border=\"1\" class=\"dataframe\">\n",
       "  <thead>\n",
       "    <tr style=\"text-align: right;\">\n",
       "      <th></th>\n",
       "      <th>ip</th>\n",
       "      <th>id</th>\n",
       "      <th>value</th>\n",
       "      <th>at</th>\n",
       "      <th>module_at</th>\n",
       "      <th>user</th>\n",
       "      <th>timestamp</th>\n",
       "      <th>value_int</th>\n",
       "    </tr>\n",
       "  </thead>\n",
       "  <tbody>\n",
       "    <tr>\n",
       "      <td>0</td>\n",
       "      <td>192.168.43.249</td>\n",
       "      <td>1</td>\n",
       "      <td>0</td>\n",
       "      <td>2019-12-26 17:46:52</td>\n",
       "      <td>602218</td>\n",
       "      <td>3</td>\n",
       "      <td>1.577363e+09</td>\n",
       "      <td>0</td>\n",
       "    </tr>\n",
       "    <tr>\n",
       "      <td>1</td>\n",
       "      <td>192.168.43.249</td>\n",
       "      <td>1</td>\n",
       "      <td>1</td>\n",
       "      <td>2019-12-26 18:11:08</td>\n",
       "      <td>104011</td>\n",
       "      <td>3</td>\n",
       "      <td>1.577364e+09</td>\n",
       "      <td>1</td>\n",
       "    </tr>\n",
       "    <tr>\n",
       "      <td>2</td>\n",
       "      <td>192.168.43.249</td>\n",
       "      <td>1</td>\n",
       "      <td>185</td>\n",
       "      <td>2019-12-26 18:11:14</td>\n",
       "      <td>110596</td>\n",
       "      <td>-1</td>\n",
       "      <td>1.577364e+09</td>\n",
       "      <td>185</td>\n",
       "    </tr>\n",
       "    <tr>\n",
       "      <td>3</td>\n",
       "      <td>192.168.43.249</td>\n",
       "      <td>1</td>\n",
       "      <td>0</td>\n",
       "      <td>2019-12-26 18:11:51</td>\n",
       "      <td>147464</td>\n",
       "      <td>3</td>\n",
       "      <td>1.577364e+09</td>\n",
       "      <td>0</td>\n",
       "    </tr>\n",
       "    <tr>\n",
       "      <td>4</td>\n",
       "      <td>192.168.43.249</td>\n",
       "      <td>1</td>\n",
       "      <td>1</td>\n",
       "      <td>2019-12-26 18:24:43</td>\n",
       "      <td>319453</td>\n",
       "      <td>39</td>\n",
       "      <td>1.577365e+09</td>\n",
       "      <td>1</td>\n",
       "    </tr>\n",
       "    <tr>\n",
       "      <td>...</td>\n",
       "      <td>...</td>\n",
       "      <td>...</td>\n",
       "      <td>...</td>\n",
       "      <td>...</td>\n",
       "      <td>...</td>\n",
       "      <td>...</td>\n",
       "      <td>...</td>\n",
       "      <td>...</td>\n",
       "    </tr>\n",
       "    <tr>\n",
       "      <td>245</td>\n",
       "      <td>192.168.43.24</td>\n",
       "      <td>1</td>\n",
       "      <td>3496</td>\n",
       "      <td>2020-03-20 18:20:47</td>\n",
       "      <td>242485</td>\n",
       "      <td>8</td>\n",
       "      <td>1.584709e+09</td>\n",
       "      <td>3496</td>\n",
       "    </tr>\n",
       "    <tr>\n",
       "      <td>246</td>\n",
       "      <td>192.168.43.249</td>\n",
       "      <td>1</td>\n",
       "      <td>62</td>\n",
       "      <td>2020-03-21 07:04:06</td>\n",
       "      <td>164551</td>\n",
       "      <td>3</td>\n",
       "      <td>1.584754e+09</td>\n",
       "      <td>62</td>\n",
       "    </tr>\n",
       "    <tr>\n",
       "      <td>247</td>\n",
       "      <td>192.168.43.249</td>\n",
       "      <td>1</td>\n",
       "      <td>0</td>\n",
       "      <td>2020-03-21 07:04:26</td>\n",
       "      <td>184971</td>\n",
       "      <td>3</td>\n",
       "      <td>1.584754e+09</td>\n",
       "      <td>0</td>\n",
       "    </tr>\n",
       "    <tr>\n",
       "      <td>248</td>\n",
       "      <td>192.168.43.249</td>\n",
       "      <td>1</td>\n",
       "      <td>2</td>\n",
       "      <td>2020-03-21 07:09:05</td>\n",
       "      <td>463351</td>\n",
       "      <td>3</td>\n",
       "      <td>1.584755e+09</td>\n",
       "      <td>2</td>\n",
       "    </tr>\n",
       "    <tr>\n",
       "      <td>249</td>\n",
       "      <td>192.168.43.249</td>\n",
       "      <td>1</td>\n",
       "      <td>0</td>\n",
       "      <td>2020-03-21 07:09:41</td>\n",
       "      <td>499343</td>\n",
       "      <td>3</td>\n",
       "      <td>1.584755e+09</td>\n",
       "      <td>0</td>\n",
       "    </tr>\n",
       "  </tbody>\n",
       "</table>\n",
       "<p>250 rows × 8 columns</p>\n",
       "</div>"
      ],
      "text/plain": [
       "                 ip  id  value                   at  module_at  user  \\\n",
       "0    192.168.43.249   1      0  2019-12-26 17:46:52     602218     3   \n",
       "1    192.168.43.249   1      1  2019-12-26 18:11:08     104011     3   \n",
       "2    192.168.43.249   1    185  2019-12-26 18:11:14     110596    -1   \n",
       "3    192.168.43.249   1      0  2019-12-26 18:11:51     147464     3   \n",
       "4    192.168.43.249   1      1  2019-12-26 18:24:43     319453    39   \n",
       "..              ...  ..    ...                  ...        ...   ...   \n",
       "245   192.168.43.24   1   3496  2020-03-20 18:20:47     242485     8   \n",
       "246  192.168.43.249   1     62  2020-03-21 07:04:06     164551     3   \n",
       "247  192.168.43.249   1      0  2020-03-21 07:04:26     184971     3   \n",
       "248  192.168.43.249   1      2  2020-03-21 07:09:05     463351     3   \n",
       "249  192.168.43.249   1      0  2020-03-21 07:09:41     499343     3   \n",
       "\n",
       "        timestamp  value_int  \n",
       "0    1.577363e+09          0  \n",
       "1    1.577364e+09          1  \n",
       "2    1.577364e+09        185  \n",
       "3    1.577364e+09          0  \n",
       "4    1.577365e+09          1  \n",
       "..            ...        ...  \n",
       "245  1.584709e+09       3496  \n",
       "246  1.584754e+09         62  \n",
       "247  1.584754e+09          0  \n",
       "248  1.584755e+09          2  \n",
       "249  1.584755e+09          0  \n",
       "\n",
       "[250 rows x 8 columns]"
      ]
     },
     "execution_count": 113,
     "metadata": {},
     "output_type": "execute_result"
    }
   ],
   "source": [
    "df"
   ]
  },
  {
   "cell_type": "code",
   "execution_count": null,
   "metadata": {},
   "outputs": [],
   "source": []
  },
  {
   "cell_type": "code",
   "execution_count": 105,
   "metadata": {},
   "outputs": [
    {
     "name": "stdout",
     "output_type": "stream",
     "text": [
      "192.168.43.249\n",
      "192.168.43.249\n",
      "192.168.43.249\n",
      "192.168.43.249\n",
      "192.168.43.249\n"
     ]
    }
   ],
   "source": [
    "for _,row  in df.head().iterrows():\n",
    "    print(row['ip'])"
   ]
  },
  {
   "cell_type": "code",
   "execution_count": 100,
   "metadata": {},
   "outputs": [],
   "source": [
    "s = pd.Series({'a':[2,3]})"
   ]
  },
  {
   "cell_type": "code",
   "execution_count": 102,
   "metadata": {},
   "outputs": [
    {
     "data": {
      "text/plain": [
       "[2, 3]"
      ]
     },
     "execution_count": 102,
     "metadata": {},
     "output_type": "execute_result"
    }
   ],
   "source": [
    "s['a']"
   ]
  },
  {
   "cell_type": "code",
   "execution_count": null,
   "metadata": {},
   "outputs": [],
   "source": []
  }
 ],
 "metadata": {
  "kernelspec": {
   "display_name": "Python 3",
   "language": "python",
   "name": "python3"
  },
  "language_info": {
   "codemirror_mode": {
    "name": "ipython",
    "version": 3
   },
   "file_extension": ".py",
   "mimetype": "text/x-python",
   "name": "python",
   "nbconvert_exporter": "python",
   "pygments_lexer": "ipython3",
   "version": "3.7.4"
  }
 },
 "nbformat": 4,
 "nbformat_minor": 2
}
